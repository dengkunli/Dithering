{
 "cells": [
  {
   "cell_type": "code",
   "execution_count": 3,
   "metadata": {
    "collapsed": false
   },
   "outputs": [
    {
     "name": "stdout",
     "output_type": "stream",
     "text": [
      "Using matplotlib backend: Qt4Agg\n"
     ]
    }
   ],
   "source": [
    "%matplotlib\n",
    "from skimage import io, color, external, filters\n",
    "import numpy"
   ]
  },
  {
   "cell_type": "markdown",
   "metadata": {},
   "source": [
    "# Dithering en image avec Python\n",
    "\n",
    "Dans ce projet, nous nous basons sur des méthodes utilisées pour le dithering en traitement d'image [comme dans cette méthode](http://michal.is/projects/image-dithering-in-matlab/). Ces méthodes fonctionnant sous Matlab, nous avons donc entrepris leur analyse et leur réécriture en méthodes Python.\n",
    "\n",
    "## Outils\n",
    "\n",
    "Pour le traitement d'image, nous utilisons principalement des outils SciPy comme NumPy ou Matplotlib, qui est utilisé pour l'affichage des images. Nous utilisons également skimage qui permet d'accéder à des méthodes notamment de conversion de couleur (grayscale) et du thresholding.\n",
    "\n",
    "## Seuillage\n",
    "\n",
    "Dans cette première partie, on expose deux méthodes basiques qui sont le seuillage fixé et le seuillage aléatoire."
   ]
  },
  {
   "cell_type": "code",
   "execution_count": 4,
   "metadata": {
    "collapsed": false
   },
   "outputs": [
    {
     "data": {
      "text/plain": [
       "<matplotlib.image.AxesImage at 0xb4f6c49b0>"
      ]
     },
     "execution_count": 4,
     "metadata": {},
     "output_type": "execute_result"
    }
   ],
   "source": [
    "import matplotlib.pyplot as plt\n",
    "import threshold\n",
    "\n",
    "\n",
    "img = io.imread(\"lenna.png\")\n",
    "img_gray = color.rgb2gray(img)\n",
    "\n",
    "\n",
    "bin_image_fixed = threshold.fixedThresholding(img_gray, 120/255)\n",
    "plt.figure(1)\n",
    "plt.imshow(bin_image_fixed, cmap='Greys_r')\n",
    "\n",
    "bin_image_random = threshold.randomThresholding(img_gray, 0.3)\n",
    "plt.figure(2)\n",
    "plt.imshow(bin_image_random, cmap='Greys_r')"
   ]
  },
  {
   "cell_type": "markdown",
   "metadata": {},
   "source": [
    "## Seuillage ordonné\n",
    "\n",
    "Pour le seuillage ordonnée, au lieu de se baser sur une simple valeur de seuil, on a à la place une matrice, ici dans l'exemple que l'on récupère des sources Matlab, de dimension 6x6. Cette matrice est ensuite répliquée pour couvrir une matrice équivalente à la taille de l'image source.\n",
    "\n",
    "La matrice utilisée dépend de la méthode et donc du résultat désirés."
   ]
  },
  {
   "cell_type": "code",
   "execution_count": 7,
   "metadata": {
    "collapsed": true
   },
   "outputs": [],
   "source": [
    "def filtre(m,taille):\n",
    "    result = numpy.zeros(taille)\n",
    "    for i in range(taille[0]) :\n",
    "        for j in range(taille[1]) :\n",
    "            result[i][j] = m[i%m.shape[0]][j%m.shape[1]]\n",
    "    return result\n",
    "\n",
    "def quantification(img,m):\n",
    "    return img*m.size\n",
    "\n",
    "def ceuillage(imgQ, filtre):\n",
    "    result = numpy.zeros(imgQ.shape)\n",
    "    for i in range(imgQ.shape[0]) :\n",
    "        for j in range(imgQ.shape[1]) :\n",
    "            if (imgQ[i][j] <= filtre[i][j]) :\n",
    "                result[i][j] = 0\n",
    "            else :\n",
    "                result[i][j] = 1\n",
    "    return result\n",
    "\n",
    "def orderedThreshold(img,m):\n",
    "    #on charge l'image et on la transforme en niveau de gris\n",
    "    img = io.imread(img)\n",
    "    img_gray = color.rgb2gray(img)\n",
    "    \n",
    "    #on crée le filtre\n",
    "    fil = filtre(m,img_gray.shape)\n",
    "    \n",
    "    #on quantifie les niveux de gris de l'image et on effectue le ceuillage\n",
    "    imgQ = quantification(img_gray,m)\n",
    "    result = ceuillage(imgQ,fil)\n",
    "    \n",
    "    return result"
   ]
  },
  {
   "cell_type": "markdown",
   "metadata": {},
   "source": [
    "\n",
    "### Points en cluster"
   ]
  },
  {
   "cell_type": "code",
   "execution_count": 9,
   "metadata": {
    "collapsed": false
   },
   "outputs": [
    {
     "data": {
      "text/plain": [
       "(<matplotlib.figure.Figure at 0xb50f62278>,\n",
       " <matplotlib.axes._subplots.AxesSubplot at 0xb50f6e2e8>,\n",
       " <matplotlib.image.AxesImage at 0xb50fa6f98>)"
      ]
     },
     "execution_count": 9,
     "metadata": {},
     "output_type": "execute_result"
    }
   ],
   "source": [
    "#Ordered threshold - Clustered dots\n",
    "s1 = numpy.array([[34, 25, 21, 17, 29, 33],\n",
    "                  [30, 13, 9 , 5 , 12, 24],\n",
    "                  [18, 6 , 1 , 0 , 8 , 20],\n",
    "                  [22, 10, 2 , 3 , 4 , 16],\n",
    "                  [26, 14, 7 , 11, 15, 28],\n",
    "                  [35, 31, 19, 23, 27, 32]])\n",
    "\n",
    "#Affichage\n",
    "result = orderedThreshold(\"Lenna.png\",s1)\n",
    "external.tifffile.imshow(result,title=\"Clustered Dots\")"
   ]
  },
  {
   "cell_type": "markdown",
   "metadata": {},
   "source": [
    "### Point blanc central"
   ]
  },
  {
   "cell_type": "code",
   "execution_count": 10,
   "metadata": {
    "collapsed": false
   },
   "outputs": [
    {
     "data": {
      "text/plain": [
       "(<matplotlib.figure.Figure at 0xb51005048>,\n",
       " <matplotlib.axes._subplots.AxesSubplot at 0xb50ffbf28>,\n",
       " <matplotlib.image.AxesImage at 0xb5167e400>)"
      ]
     },
     "execution_count": 10,
     "metadata": {},
     "output_type": "execute_result"
    }
   ],
   "source": [
    "#Ordered matrix with central white point\n",
    "s2 = numpy.array([[34, 25, 21, 17, 29, 33],\n",
    "                  [30, 13, 9 , 5 , 12, 24],\n",
    "                  [18, 6 , 1 , 0 , 8 , 20],\n",
    "                  [22, 10, 2 , 3 , 4 , 16],\n",
    "                  [26, 14, 7 , 11, 15, 28],\n",
    "                  [35, 31, 19, 23, 27, 32]])\n",
    "\n",
    "#Affichage\n",
    "result = orderedThreshold(\"Lenna.png\",s2)\n",
    "external.tifffile.imshow(result,title=\"Central white point\")"
   ]
  },
  {
   "cell_type": "markdown",
   "metadata": {},
   "source": [
    "### Point centré équilibré"
   ]
  },
  {
   "cell_type": "code",
   "execution_count": null,
   "metadata": {
    "collapsed": true
   },
   "outputs": [],
   "source": [
    "#Ordered matrix with balanced centered point\n",
    "s3 = numpy.array([[30, 22, 16, 21, 33, 35],\n",
    "\t\t       [24, 11, 7 , 9 , 26, 28],\n",
    "\t\t       [13, 5 , 0 , 2 , 14, 19],\n",
    "\t\t       [15, 3 , 1 , 4 , 12, 18],\n",
    "\t\t       [27, 8 , 6 , 10, 25, 29],\n",
    "\t\t       [32, 20, 17, 23, 31, 34]])  "
   ]
  },
  {
   "cell_type": "markdown",
   "metadata": {},
   "source": [
    "### Matrice ordonnée diagonalement avec points centrés équilibrés"
   ]
  },
  {
   "cell_type": "code",
   "execution_count": null,
   "metadata": {
    "collapsed": true
   },
   "outputs": [],
   "source": []
  },
  {
   "cell_type": "markdown",
   "metadata": {},
   "source": [
    "### Points dispersés (Bayer)"
   ]
  },
  {
   "cell_type": "code",
   "execution_count": null,
   "metadata": {
    "collapsed": true
   },
   "outputs": [],
   "source": []
  },
  {
   "cell_type": "markdown",
   "metadata": {},
   "source": [
    "## Diffusion d'erreur"
   ]
  },
  {
   "cell_type": "code",
   "execution_count": null,
   "metadata": {
    "collapsed": true
   },
   "outputs": [],
   "source": []
  }
 ],
 "metadata": {
  "kernelspec": {
   "display_name": "Python 3",
   "language": "python",
   "name": "python3"
  },
  "language_info": {
   "codemirror_mode": {
    "name": "ipython",
    "version": 3
   },
   "file_extension": ".py",
   "mimetype": "text/x-python",
   "name": "python",
   "nbconvert_exporter": "python",
   "pygments_lexer": "ipython3",
   "version": "3.5.1"
  }
 },
 "nbformat": 4,
 "nbformat_minor": 0
}
