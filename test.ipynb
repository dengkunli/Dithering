{
 "cells": [
  {
   "cell_type": "code",
   "execution_count": 2,
   "metadata": {
    "collapsed": false
   },
   "outputs": [
    {
     "name": "stdout",
     "output_type": "stream",
     "text": [
      "Using matplotlib backend: Qt4Agg\n"
     ]
    }
   ],
   "source": [
    "%matplotlib"
   ]
  },
  {
   "cell_type": "markdown",
   "metadata": {},
   "source": [
    "# Dithering en image avec Python\n",
    "\n",
    "Dans ce projet, nous nous basons sur des méthodes utilisées pour le dithering en traitement d'image [comme dans cette méthode](http://michal.is/projects/image-dithering-in-matlab/). Ces méthodes fonctionnant sous Matlab, nous avons donc entrepris leur analyse et leur réécriture en méthodes Python.\n",
    "\n",
    "## Outils\n",
    "\n",
    "Pour le traitement d'image, nous utilisons principalement des outils SciPy comme NumPy ou Matplotlib, qui est utilisé pour l'affichage des images. Nous utilisons également skimage qui permet d'accéder à des méthodes notamment de conversion de couleur (grayscale) et du thresholding.\n",
    "\n",
    "## Seuillage\n",
    "\n",
    "Dans cette première partie, on expose deux méthodes basiques qui sont le seuillage fixé et le seuillage aléatoire."
   ]
  },
  {
   "cell_type": "code",
   "execution_count": 4,
   "metadata": {
    "collapsed": false
   },
   "outputs": [
    {
     "data": {
      "text/plain": [
       "<matplotlib.image.AxesImage at 0xf28611a7f0>"
      ]
     },
     "execution_count": 4,
     "metadata": {},
     "output_type": "execute_result"
    }
   ],
   "source": [
    "from skimage import io, color, filters\n",
    "import matplotlib.pyplot as plt\n",
    "import threshold\n",
    "\n",
    "\n",
    "img = io.imread(\"lenna.png\")\n",
    "img_gray = color.rgb2gray(img)\n",
    "\n",
    "\n",
    "bin_image_fixed = threshold.fixedThresholding(img_gray, 120/255)\n",
    "plt.figure(1)\n",
    "plt.imshow(bin_image_fixed, cmap='Greys_r')\n",
    "\n",
    "bin_image_random = threshold.randomThresholding(img_gray, 0.3)\n",
    "plt.figure(2)\n",
    "plt.imshow(bin_image_random, cmap='Greys_r')"
   ]
  },
  {
   "cell_type": "markdown",
   "metadata": {},
   "source": [
    "## Seuillage ordonné\n",
    "\n",
    "Pour le seuillage ordonnée, au lieu de se baser sur une simple valeur de seuil, on a à la place une matrice, ici dans l'exemple que l'on récupère des sources Matlab, de dimension 6x6. Cette matrice est ensuite répliquée pour couvrir une matrice équivalente à la taille de l'image source.\n",
    "\n",
    "La matrice utilisée dépend de la méthode et donc du résultat désirés.\n",
    "\n",
    "### Points en cluster\n",
    "\n",
    "Avec cette méthode, ce que l'on observe correspond à une sorte de quadrillage oblique contenant des points de taille variable dessinant l'image."
   ]
  },
  {
   "cell_type": "code",
   "execution_count": null,
   "metadata": {
    "collapsed": true
   },
   "outputs": [],
   "source": []
  },
  {
   "cell_type": "markdown",
   "metadata": {},
   "source": [
    "### Point blanc central"
   ]
  },
  {
   "cell_type": "code",
   "execution_count": null,
   "metadata": {
    "collapsed": true
   },
   "outputs": [],
   "source": []
  },
  {
   "cell_type": "markdown",
   "metadata": {},
   "source": [
    "### Point centré équilibré"
   ]
  },
  {
   "cell_type": "code",
   "execution_count": null,
   "metadata": {
    "collapsed": true
   },
   "outputs": [],
   "source": []
  },
  {
   "cell_type": "markdown",
   "metadata": {},
   "source": [
    "### Matrice ordonnée diagonalement avec points centrés équilibrés"
   ]
  },
  {
   "cell_type": "code",
   "execution_count": null,
   "metadata": {
    "collapsed": true
   },
   "outputs": [],
   "source": []
  },
  {
   "cell_type": "markdown",
   "metadata": {},
   "source": [
    "### Points dispersés (Bayer)"
   ]
  },
  {
   "cell_type": "code",
   "execution_count": null,
   "metadata": {
    "collapsed": true
   },
   "outputs": [],
   "source": []
  },
  {
   "cell_type": "markdown",
   "metadata": {},
   "source": [
    "## Diffusion d'erreur"
   ]
  },
  {
   "cell_type": "code",
   "execution_count": null,
   "metadata": {
    "collapsed": true
   },
   "outputs": [],
   "source": []
  }
 ],
 "metadata": {
  "kernelspec": {
   "display_name": "Python 3",
   "language": "python",
   "name": "python3"
  },
  "language_info": {
   "codemirror_mode": {
    "name": "ipython",
    "version": 3
   },
   "file_extension": ".py",
   "mimetype": "text/x-python",
   "name": "python",
   "nbconvert_exporter": "python",
   "pygments_lexer": "ipython3",
   "version": "3.5.1"
  }
 },
 "nbformat": 4,
 "nbformat_minor": 0
}
