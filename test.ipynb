{
 "cells": [
  {
   "cell_type": "code",
   "execution_count": 26,
   "metadata": {
    "collapsed": false
   },
   "outputs": [
    {
     "data": {
      "text/plain": [
       "<matplotlib.image.AxesImage at 0x701c21a58>"
      ]
     },
     "execution_count": 26,
     "metadata": {},
     "output_type": "execute_result"
    }
   ],
   "source": [
    "from skimage import io, color, filters\n",
    "import matplotlib.pyplot as plt\n",
    "import threshold\n",
    "\n",
    "\n",
    "img = io.imread(\"lenna.png\")\n",
    "img_gray = color.rgb2gray(img)\n",
    "\n",
    "bin_image_fixed = threshold.fixedThresholding(img_gray, 120/255)\n",
    "plt.figure(1)\n",
    "plt.imshow(bin_image_fixed, cmap='Greys_r')\n",
    "\n",
    "\n",
    "bin_image_random = threshold.randomThresholding(img_gray, 0.3)\n",
    "plt.figure(2)\n",
    "plt.imshow(bin_image_random, cmap='Greys_r')"
   ]
  }
 ],
 "metadata": {
  "kernelspec": {
   "display_name": "Python 3",
   "language": "python",
   "name": "python3"
  },
  "language_info": {
   "codemirror_mode": {
    "name": "ipython",
    "version": 3
   },
   "file_extension": ".py",
   "mimetype": "text/x-python",
   "name": "python",
   "nbconvert_exporter": "python",
   "pygments_lexer": "ipython3",
   "version": "3.5.1"
  }
 },
 "nbformat": 4,
 "nbformat_minor": 0
}
